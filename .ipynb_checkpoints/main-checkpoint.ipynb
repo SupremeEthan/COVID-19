{
 "cells": [
  {
   "cell_type": "code",
   "execution_count": null,
   "metadata": {},
   "outputs": [],
   "source": [
    "'''environment setup'''\n",
    "import sys\n",
    "!{sys.executable} -m pip install chardet\n",
    "!{sys.executable} -m pip install en-core-web-sm\n",
    "!{sys.executable} -m pip install gensim\n",
    "!{sys.executable} -m pip install joblib\n",
    "!{sys.executable} -m pip install matplotlib\n",
    "!{sys.executable} -m pip install networkx\n",
    "!{sys.executable} -m pip install numpy\n",
    "!{sys.executable} -m pip install plac\n",
    "!{sys.executable} -m pip install scikit-learn\n",
    "!{sys.executable} -m pip install scipy\n",
    "!{sys.executable} -m pip install spacy\n",
    "!{sys.executable} -m pip install tensorflow\n",
    "!{sys.executable} -m pip install tensorflow-estimator\n",
    "!{sys.executable} -m pip install tqdm\n",
    "!{sys.executable} -m pip install ipycytoscape\n",
    "\n",
    "print('environment setup finished')\n",
    "\n",
    "# --------------------------------------------------------\n",
    "# --------------------Configurations----------------------\n",
    "# --------------------------------------------------------\n",
    "'''configurations'''\n",
    "# multiple imports\n",
    "from process import *\n",
    "import ipycytoscape\n",
    "import json\n",
    "import os\n",
    "\n",
    "# path for content embedding\n",
    "content_emb_path = os.path.abspath('./data/embedding/sentence_embedding/sentence_embedding.pkl')\n",
    "\n",
    "# path for constructed network\n",
    "original_G_path = os.path.abspath('./data/classifier/original_G.txt')\n",
    "\n",
    "print('configurations setup finished')"
   ]
  },
  {
   "cell_type": "code",
   "execution_count": 1,
   "metadata": {
    "pycharm": {
     "name": "#%%\n"
    }
   },
   "outputs": [
    {
     "name": "stdout",
     "output_type": "stream",
     "text": [
      "Note that the cytoscape json file our model outputs does not contain style information of the network.\n",
      "Please refer to https://groups.google.com/g/cytoscape-discuss/c/ILk3t-qnplc to see how to style the network using cytoscape desktop software.\n",
      "In our case, the file named cytoscape_with_prediction_with_position.json is styled network made by the cytoscape software.\n"
     ]
    }
   ],
   "source": [
    "'''Some notes for visualization'''\n",
    "print(\"Note that the cytoscape json file our model outputs does not contain style information of the network.\")\n",
    "print(\"Please refer to https://groups.google.com/g/cytoscape-discuss/c/ILk3t-qnplc to see how to style the network using cytoscape desktop software.\")\n",
    "print(\"In our case, the file named cytoscape_with_prediction_with_position.json is styled network made by the cytoscape software.\")"
   ]
  },
  {
   "cell_type": "code",
   "execution_count": 2,
   "metadata": {
    "pycharm": {
     "name": "#%%\n"
    }
   },
   "outputs": [
    {
     "name": "stdout",
     "output_type": "stream",
     "text": [
      "-----------------------MODEL START-----------------------\n"
     ]
    },
    {
     "ename": "NameError",
     "evalue": "name 'build_graph' is not defined",
     "output_type": "error",
     "traceback": [
      "\u001b[0;31m---------------------------------------------------------------------------\u001b[0m",
      "\u001b[0;31mNameError\u001b[0m                                 Traceback (most recent call last)",
      "\u001b[0;32m<ipython-input-2-05e8519db183>\u001b[0m in \u001b[0;36m<module>\u001b[0;34m\u001b[0m\n\u001b[1;32m      5\u001b[0m \u001b[0;34m'''network construction'''\u001b[0m\u001b[0;34m\u001b[0m\u001b[0;34m\u001b[0m\u001b[0m\n\u001b[1;32m      6\u001b[0m \u001b[0;31m# construct network\u001b[0m\u001b[0;34m\u001b[0m\u001b[0;34m\u001b[0m\u001b[0;34m\u001b[0m\u001b[0m\n\u001b[0;32m----> 7\u001b[0;31m \u001b[0mbuild_graph\u001b[0m\u001b[0;34m(\u001b[0m\u001b[0mbg\u001b[0m\u001b[0;34m=\u001b[0m\u001b[0;32mTrue\u001b[0m\u001b[0;34m)\u001b[0m\u001b[0;34m\u001b[0m\u001b[0;34m\u001b[0m\u001b[0m\n\u001b[0m\u001b[1;32m      8\u001b[0m \u001b[0mprint\u001b[0m\u001b[0;34m(\u001b[0m\u001b[0;34m'network construction finished'\u001b[0m\u001b[0;34m)\u001b[0m\u001b[0;34m\u001b[0m\u001b[0;34m\u001b[0m\u001b[0m\n",
      "\u001b[0;31mNameError\u001b[0m: name 'build_graph' is not defined"
     ]
    }
   ],
   "source": [
    "# --------------------------------------------------------\n",
    "# ------------------------Execution-----------------------\n",
    "# --------------------------------------------------------\n",
    "print('-----------------------MODEL START-----------------------')\n",
    "'''network construction'''\n",
    "# construct network\n",
    "build_graph(bg=True)\n",
    "print('network construction finished')"
   ]
  },
  {
   "cell_type": "code",
   "execution_count": null,
   "metadata": {
    "pycharm": {
     "name": "#%%\n"
    }
   },
   "outputs": [],
   "source": [
    "'''original graph visualization'''\n",
    "with open(os.path.abspath('./data/cytoscape/cytoscape_with_prediction_with_position.json')) as fi:\n",
    "    js = json.load(fi)['elements']\n",
    "with open(\"cytoStyle.json\") as fi:\n",
    "    s = json.load(fi)\n",
    "\n",
    "fig_original = ipycytoscape.CytoscapeWidget()\n",
    "fig_original.graph.add_graph_from_json(js)\n",
    "fig_original.set_layout(name = 'circular')\n",
    "fig_original.set_style(s)\n",
    "fig_original"
   ]
  },
  {
   "cell_type": "code",
   "execution_count": 3,
   "metadata": {
    "pycharm": {
     "name": "#%%\n"
    }
   },
   "outputs": [
    {
     "name": "stdout",
     "output_type": "stream",
     "text": [
      "Graph already built\n",
      "network embedding finished\n"
     ]
    }
   ],
   "source": [
    "'''network embedding'''\n",
    "generate_embedding_pred(bg=False)\n",
    "print('network embedding finished')"
   ]
  },
  {
   "cell_type": "code",
   "execution_count": 4,
   "metadata": {
    "pycharm": {
     "name": "#%%\n"
    }
   },
   "outputs": [
    {
     "name": "stdout",
     "output_type": "stream",
     "text": [
      "-------------------- START --------------------\n",
      "Prediction data saved!\n",
      "link prediction finished\n"
     ]
    }
   ],
   "source": [
    "'''link prediction'''\n",
    "process_pred(original_G_path=original_G_path,\n",
    "            structural_emb_path=os.path.abspath('data/embedding/prediction/IMSP.csv'),\n",
    "            content_emb_path=content_emb_path, classifier='MLP', model_iter=10)\n",
    "print('link prediction finished')\n",
    "print('-----------------------MODEL END-----------------------')"
   ]
  },
  {
   "cell_type": "code",
   "execution_count": null,
   "metadata": {
    "pycharm": {
     "name": "#%%\n"
    }
   },
   "outputs": [],
   "source": [
    "'''visualize the network with predictions'''\n",
    "\n",
    "with open(\"predictStyle.json\") as fi:\n",
    "    s2 = json.load(fi)\n",
    "\n",
    "fig_prediction = ipycytoscape.CytoscapeWidget()\n",
    "fig_prediction.graph.add_graph_from_json(js)\n",
    "fig_prediction.set_layout(name = 'circular')\n",
    "fig_prediction.set_style(s2)\n",
    "fig_prediction"
   ]
  }
 ],
 "metadata": {
  "kernelspec": {
   "display_name": "Python 3",
   "language": "python",
   "name": "python3"
  },
  "language_info": {
   "codemirror_mode": {
    "name": "ipython",
    "version": 3
   },
   "file_extension": ".py",
   "mimetype": "text/x-python",
   "name": "python",
   "nbconvert_exporter": "python",
   "pygments_lexer": "ipython3",
   "version": "3.7.9"
  }
 },
 "nbformat": 4,
 "nbformat_minor": 1
}
